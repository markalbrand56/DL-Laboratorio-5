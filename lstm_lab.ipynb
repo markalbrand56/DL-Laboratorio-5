{
 "cells": [
  {
   "cell_type": "code",
   "execution_count": 3,
   "id": "91043135adcb586d",
   "metadata": {
    "collapsed": false,
    "ExecuteTime": {
     "end_time": "2024-08-23T21:54:14.474320Z",
     "start_time": "2024-08-23T21:54:10.705452Z"
    }
   },
   "outputs": [],
   "source": [
    "import numpy as np\n",
    "from tensorflow.keras.datasets import imdb\n",
    "from tensorflow.keras.preprocessing.sequence import pad_sequences\n",
    "from tensorflow.keras.models import Sequential\n",
    "from tensorflow.keras.layers import LSTM, Dense, Embedding"
   ]
  },
  {
   "cell_type": "code",
   "outputs": [],
   "source": [
    "# Load and preprocess the data\n",
    "max_features = 400\n",
    "maxlen = 300"
   ],
   "metadata": {
    "collapsed": false,
    "ExecuteTime": {
     "end_time": "2024-08-23T21:58:58.671618Z",
     "start_time": "2024-08-23T21:58:58.666414Z"
    }
   },
   "id": "8b431afa000f87ac",
   "execution_count": 12
  },
  {
   "cell_type": "code",
   "outputs": [],
   "source": [
    "(X_train, y_train), (X_test, y_test) = imdb.load_data(num_words=max_features)\n",
    "X_train = pad_sequences(X_train, maxlen=maxlen)\n",
    "X_test = pad_sequences(X_test, maxlen=maxlen)"
   ],
   "metadata": {
    "collapsed": false,
    "ExecuteTime": {
     "end_time": "2024-08-23T21:59:02.622047Z",
     "start_time": "2024-08-23T21:59:00.129751Z"
    }
   },
   "id": "82e732bca9daccc8",
   "execution_count": 13
  },
  {
   "cell_type": "code",
   "outputs": [
    {
     "name": "stdout",
     "output_type": "stream",
     "text": [
      "Model: \"sequential_3\"\n",
      "_________________________________________________________________\n",
      " Layer (type)                Output Shape              Param #   \n",
      "=================================================================\n",
      " embedding_3 (Embedding)     (None, None, 32)          12800     \n",
      "                                                                 \n",
      " lstm_3 (LSTM)               (None, 4)                 592       \n",
      "                                                                 \n",
      " dense_3 (Dense)             (None, 1)                 5         \n",
      "                                                                 \n",
      "=================================================================\n",
      "Total params: 13397 (52.33 KB)\n",
      "Trainable params: 13397 (52.33 KB)\n",
      "Non-trainable params: 0 (0.00 Byte)\n",
      "_________________________________________________________________\n"
     ]
    }
   ],
   "source": [
    "# Define the LSTM model\n",
    "model = Sequential()\n",
    "model.add(Embedding(max_features, 32))\n",
    "model.add(LSTM(4))\n",
    "model.add(Dense(1, activation='sigmoid'))\n",
    "model.summary()\n",
    "model.compile(optimizer='adam', loss='binary_crossentropy', metrics=['accuracy'], run_eagerly=True)"
   ],
   "metadata": {
    "collapsed": false,
    "ExecuteTime": {
     "end_time": "2024-08-23T21:59:04.092213Z",
     "start_time": "2024-08-23T21:59:03.942657Z"
    }
   },
   "id": "992fcbe3d61aed31",
   "execution_count": 14
  },
  {
   "cell_type": "code",
   "outputs": [
    {
     "name": "stdout",
     "output_type": "stream",
     "text": [
      "Epoch 1/10\n",
      "391/391 [==============================] - 61s 150ms/step - loss: 0.6013 - accuracy: 0.6756 - val_loss: 0.5166 - val_accuracy: 0.7660\n",
      "Epoch 2/10\n",
      "391/391 [==============================] - 56s 144ms/step - loss: 0.5067 - accuracy: 0.7638 - val_loss: 0.4932 - val_accuracy: 0.7741\n",
      "Epoch 3/10\n",
      "391/391 [==============================] - 56s 144ms/step - loss: 0.4674 - accuracy: 0.7923 - val_loss: 0.4430 - val_accuracy: 0.8030\n",
      "Epoch 4/10\n",
      "391/391 [==============================] - 57s 145ms/step - loss: 0.4338 - accuracy: 0.8098 - val_loss: 0.4227 - val_accuracy: 0.8140\n",
      "Epoch 5/10\n",
      "391/391 [==============================] - 57s 145ms/step - loss: 0.4169 - accuracy: 0.8168 - val_loss: 0.4313 - val_accuracy: 0.8039\n",
      "Epoch 6/10\n",
      "391/391 [==============================] - 57s 145ms/step - loss: 0.4129 - accuracy: 0.8157 - val_loss: 0.4554 - val_accuracy: 0.7844\n",
      "Epoch 7/10\n",
      "391/391 [==============================] - 57s 145ms/step - loss: 0.4104 - accuracy: 0.8176 - val_loss: 0.4160 - val_accuracy: 0.8198\n",
      "Epoch 8/10\n",
      "391/391 [==============================] - 56s 144ms/step - loss: 0.4007 - accuracy: 0.8224 - val_loss: 0.4111 - val_accuracy: 0.8157\n",
      "Epoch 9/10\n",
      "391/391 [==============================] - 57s 145ms/step - loss: 0.3991 - accuracy: 0.8244 - val_loss: 0.4202 - val_accuracy: 0.8152\n",
      "Epoch 10/10\n",
      "391/391 [==============================] - 57s 146ms/step - loss: 0.3922 - accuracy: 0.8269 - val_loss: 0.4070 - val_accuracy: 0.8181\n"
     ]
    },
    {
     "data": {
      "text/plain": "<keras.src.callbacks.History at 0x35009a620>"
     },
     "execution_count": 15,
     "metadata": {},
     "output_type": "execute_result"
    }
   ],
   "source": [
    "# Fit the model\n",
    "model.fit(X_train, y_train, epochs=10, batch_size=64, validation_data=(X_test, y_test))"
   ],
   "metadata": {
    "collapsed": false,
    "ExecuteTime": {
     "end_time": "2024-08-23T22:08:38.422888Z",
     "start_time": "2024-08-23T21:59:08.283610Z"
    }
   },
   "id": "e83df3dac93d17bf",
   "execution_count": 15
  },
  {
   "cell_type": "code",
   "outputs": [
    {
     "name": "stdout",
     "output_type": "stream",
     "text": [
      "782/782 [==============================] - 38s 48ms/step - loss: 0.4070 - accuracy: 0.8181\n",
      "Loss: 0.406961053609848, Accuracy: 0.8180800676345825\n"
     ]
    }
   ],
   "source": [
    "# Evaluate the model\n",
    "loss, accuracy = model.evaluate(X_test, y_test)\n",
    "print(f'Loss: {loss}, Accuracy: {accuracy}') "
   ],
   "metadata": {
    "collapsed": true,
    "ExecuteTime": {
     "end_time": "2024-08-23T22:09:29.984661Z",
     "start_time": "2024-08-23T22:08:51.818689Z"
    }
   },
   "id": "initial_id",
   "execution_count": 16
  },
  {
   "cell_type": "code",
   "outputs": [
    {
     "data": {
      "text/plain": "<function sklearn.metrics._classification.confusion_matrix(y_true, y_pred, *, labels=None, sample_weight=None, normalize=None)>"
     },
     "execution_count": 24,
     "metadata": {},
     "output_type": "execute_result"
    },
    {
     "data": {
      "text/plain": "<Figure size 640x480 with 2 Axes>",
      "image/png": "[encoded data removed]"
     },
     "metadata": {},
     "output_type": "display_data"
    }
   ],
   "source": [
    "from sklearn.metrics import confusion_matrix, ConfusionMatrixDisplay\n",
    "\n",
    "predictions = model.predict(X_test)\n",
    "cm = confusion_matrix(y_test, (predictions > 0.5).astype(int))\n",
    "ConfusionMatrixDisplay(cm).plot()\n",
    "confusion_matrix\n"
   ],
   "metadata": {
    "collapsed": false,
    "ExecuteTime": {
     "end_time": "2024-08-23T22:25:59.512702Z",
     "start_time": "2024-08-23T22:25:59.378762Z"
    }
   },
   "id": "3bb2ee38b64202ac",
   "execution_count": 24
  }
 ],
 "metadata": {
  "kernelspec": {
   "display_name": "Python 3",
   "language": "python",
   "name": "python3"
  },
  "language_info": {
   "codemirror_mode": {
    "name": "ipython",
    "version": 2
   },
   "file_extension": ".py",
   "mimetype": "text/x-python",
   "name": "python",
   "nbconvert_exporter": "python",
   "pygments_lexer": "ipython2",
   "version": "2.7.6"
  }
 },
 "nbformat": 4,
 "nbformat_minor": 5
}
